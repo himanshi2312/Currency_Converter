{
 "cells": [
  {
   "cell_type": "markdown",
   "id": "82276f92-612e-4d61-aec2-cb7c0030041f",
   "metadata": {},
   "source": [
    "# CURRENCY CONVERTER"
   ]
  },
  {
   "cell_type": "code",
   "execution_count": 2,
   "id": "05ce0af5-9b79-4a45-9897-bab0596c2df5",
   "metadata": {},
   "outputs": [
    {
     "name": "stdout",
     "output_type": "stream",
     "text": [
      "Collecting tkNote: you may need to restart the kernel to use updated packages.\n",
      "\n",
      "  Downloading tk-0.1.0-py3-none-any.whl (3.9 kB)\n",
      "Installing collected packages: tk\n",
      "Successfully installed tk-0.1.0\n"
     ]
    }
   ],
   "source": [
    "pip install tk"
   ]
  },
  {
   "cell_type": "code",
   "execution_count": 4,
   "id": "1e077f6a-9233-4287-be10-aeaac5016d62",
   "metadata": {},
   "outputs": [
    {
     "name": "stdout",
     "output_type": "stream",
     "text": [
      "Requirement already satisfied: requests in c:\\users\\hp\\appdata\\local\\programs\\python\\python311\\lib\\site-packages (2.31.0)Note: you may need to restart the kernel to use updated packages.\n",
      "\n",
      "Requirement already satisfied: charset-normalizer<4,>=2 in c:\\users\\hp\\appdata\\local\\programs\\python\\python311\\lib\\site-packages (from requests) (3.2.0)\n",
      "Requirement already satisfied: idna<4,>=2.5 in c:\\users\\hp\\appdata\\local\\programs\\python\\python311\\lib\\site-packages (from requests) (3.4)\n",
      "Requirement already satisfied: urllib3<3,>=1.21.1 in c:\\users\\hp\\appdata\\local\\programs\\python\\python311\\lib\\site-packages (from requests) (2.0.4)\n",
      "Requirement already satisfied: certifi>=2017.4.17 in c:\\users\\hp\\appdata\\local\\programs\\python\\python311\\lib\\site-packages (from requests) (2023.7.22)\n"
     ]
    }
   ],
   "source": [
    "pip install requests"
   ]
  },
  {
   "cell_type": "code",
   "execution_count": 5,
   "id": "0fa56a1d-f385-4dd0-847e-09b3bfd62ca2",
   "metadata": {},
   "outputs": [],
   "source": [
    "from tkinter import *\n",
    "from tkinter import ttk\n",
    "from tkinter import messagebox\n",
    "import tkinter as tk\n",
    "import requests\n",
    "import datetime as dt"
   ]
  },
  {
   "cell_type": "code",
   "execution_count": 6,
   "id": "eeb467d7-4430-4b55-a70f-ae8deb73916c",
   "metadata": {},
   "outputs": [],
   "source": [
    "class CurrencyConverter:\n",
    "\n",
    "    def __init__(self , url):\n",
    "        self.url = 'https://api.exchangerate.host/latest'\n",
    "        self.response = requests.get(url)\n",
    "        self.data = self.response.json()\n",
    "        self.rates = self.data.get('rates')\n",
    "\n",
    "    def convert (self , amount , base_currency , desired_currency):\n",
    "        if base_currency != 'EUR':\n",
    "            amount = amount/self.rates[base_currency]\n",
    "        amount = round(amount*self.rates[desired_currency] ,2)\n",
    "        amount = '{:,}'.format(amount)\n",
    "        return amount"
   ]
  },
  {
   "cell_type": "code",
   "execution_count": 27,
   "id": "e17a0a46-4779-4a8c-9fdc-2a52d0d5264a",
   "metadata": {},
   "outputs": [],
   "source": [
    "class Main(tk.Tk):\n",
    "\n",
    "    def __init__(self,converter):\n",
    "        tk.Tk.__init__(self)\n",
    "        self.title('Currency Converter')\n",
    "        self.geometry('400x400')\n",
    "        self.config(bg = '#3A3B3C')\n",
    "        self.CurrencyConverter = converter\n",
    "\n",
    "        #create title label\n",
    "        self.title_label = Label(self , text = 'Currency Converter' , bg = '#3A3B3C' , fg = 'white' , font = ('franklin gothic medium' , 20) , relief ='sunken')\n",
    "        self.title_label.place(x=200 , y=35,anchor='center')\n",
    "\n",
    "        #create date label \n",
    "        self.date_label = Label(self  , text = f'{dt.datetime.now():%A,%B,%d,%Y}',bg = '#3A3B3C' , fg = 'white' , font = ('calibri' , 10))\n",
    "        self.date_label.place(x = 0 , y = 400 , anchor = 'sw')\n",
    "\n",
    "        #create version label \n",
    "        self.version_label = Label(self , text = 'v1.0' , bg = '#3A3B3C',fg = 'white' , font  = ('calibri' , 10))\n",
    "        self.version_label.place(x=400 , y=400 , anchor = 'se')\n",
    "\n",
    "        #create amount label \n",
    "        self.amount_label = Label(self , text = 'Input Amount' ,bg = '#3A3B3C',fg = 'white' , font  = ('calibri' , 10))\n",
    "        self.amount_label.place(x=200 , y=80 , anchor = 'center')\n",
    "\n",
    "        #create amount entry box\n",
    "        self.amount_entry = Entry(self)\n",
    "        self.amount_entry.config(width = 25)\n",
    "        self.amount_entry.place(x=200 , y=110 , anchor='center')\n",
    "        \n",
    "        #create from label\n",
    "        self.base_currency_label = Label(self , text = 'From :' , bg = '#3A3B3C',fg = 'white' , font  = ('calibri' , 10))\n",
    "        self.base_currency_label.place(x=200 , y=140 , anchor='center')\n",
    "\n",
    "        #create to label \n",
    "        self.desired_currency_level = Label(self , text = 'To :' , bg = '#3A3B3C',fg = 'white' , font  = ('calibri' , 10))\n",
    "        self.desired_currency_level.place(x=200 , y=200 , anchor='center')\n",
    "\n",
    "        #create dropdown menus \n",
    "        self.currency_variable1 = StringVar(self)\n",
    "        self.currency_variable2 = StringVar(self)\n",
    "        self.currency_variable1.set('USD')\n",
    "        self.currency_variable2.set('IDR')\n",
    "\n",
    "        self.currency_combobox1 = ttk.Combobox(self , width=20 , textvariable = self.currency_variable1 , values = list(self.CurrencyConverter.rates.keys()) , state = 'readonly')\n",
    "        self.currency_combobox1.place(x = 200 , y = 170 , anchor ='center')\n",
    "\n",
    "        self.currency_combobox2 = ttk.Combobox(self , width=20 , textvariable = self.currency_variable2 , values = list(self.CurrencyConverter.rates.keys()) , state = 'readonly')\n",
    "        self.currency_combobox2.place(x = 200 , y = 230 , anchor ='center')\n",
    "\n",
    "        #create the convert button \n",
    "        self.convert_button = Button(self , text = 'Convert' , bg = '#52595D',fg = 'white' , command = self.processed)\n",
    "        self.convert_button.place(x = 170 , y = 270 , anchor  = 'center')\n",
    "\n",
    "        #create the clear button \n",
    "        self.clear_button = Button(self , text = 'Clear' , bg ='red', fg = 'white' , command = self.clear)\n",
    "        self.clear_button.place(x = 230 , y = 270 , anchor ='center')\n",
    "\n",
    "        #create the converted result field\n",
    "        self.final_result = Label(self, text='', bg='#52595D', fg='white', font=('calibri', 12), relief='sunken', width=40)\n",
    "        self.final_result.place(x = 200 , y = 310 , anchor = 'center')\n",
    "\n",
    "    # Function to clear the amount and final result feild \n",
    "    def clear(self):\n",
    "        clear_entry = self.amount_entry.delete(0,END)\n",
    "        clear_result = self.final_result.config(text='')\n",
    "        return clear_entry , clear_result\n",
    "\n",
    "    #Function to perform the process\n",
    "    def processed(self):\n",
    "        try :\n",
    "            given_amount = float(self.amount_entry.get())\n",
    "            given_base_currency = self.currency_variable1.get()\n",
    "            given_desired_currency = self.currency_variable2.get()\n",
    "            converted_amount = self.CurrencyConverter.convert(given_amount , given_base_currency , given_desired_currency)\n",
    "            # Add comma every three nums\n",
    "            given_amount = '{:,}'.format(given_amount)\n",
    "\n",
    "            self.final_result.config(text = f'{given_amount} {given_base_currency} = {converted_amount} {given_desired_currency}')\n",
    "\n",
    "        except ValueError :\n",
    "            convert_error = messagebox.showwarning('WARNING!' , 'Please fill the amount feild (Integer Only)!')\n",
    "            return convert_error\n",
    "\n",
    "if __name__ == '__main__' :\n",
    "    converter = CurrencyConverter('https://api.exchangerate.host/latest')\n",
    "    Main(converter)\n",
    "    mainloop()"
   ]
  },
  {
   "cell_type": "code",
   "execution_count": null,
   "id": "299e6703-c19b-4b3a-be56-ce37a51e75a4",
   "metadata": {},
   "outputs": [],
   "source": []
  }
 ],
 "metadata": {
  "kernelspec": {
   "display_name": "Python 3 (ipykernel)",
   "language": "python",
   "name": "python3"
  },
  "language_info": {
   "codemirror_mode": {
    "name": "ipython",
    "version": 3
   },
   "file_extension": ".py",
   "mimetype": "text/x-python",
   "name": "python",
   "nbconvert_exporter": "python",
   "pygments_lexer": "ipython3",
   "version": "3.11.4"
  }
 },
 "nbformat": 4,
 "nbformat_minor": 5
}
